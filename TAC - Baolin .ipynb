{
 "cells": [
  {
   "cell_type": "code",
   "execution_count": 70,
   "metadata": {
    "collapsed": false
   },
   "outputs": [],
   "source": [
    "from nltk.stem.porter import PorterStemmer\n",
    "from sklearn.feature_extraction.text import HashingVectorizer\n",
    "from sklearn.cross_validation import train_test_split\n",
    "from sklearn.multiclass import OneVsRestClassifier\n",
    "from sklearn.svm import SVC\n",
    "from sklearn.ensemble import RandomForestClassifier , ExtraTreesClassifier, GradientBoostingClassifier\n",
    "from sklearn.preprocessing import label_binarize\n",
    "from sklearn import cross_validation\n",
    "#from PyPDF2 import PdfFileWriter, PdfFileReader\n",
    "# from wand.image import Image\n",
    "# from wand.color import Color\n",
    "from sklearn.externals import joblib\n",
    "# import tensorflow as tf\n",
    "# import tensorflow.python.platform\n",
    "# from tensorflow.python.platform import gfile\n",
    "from sklearn.manifold import MDS\n",
    "import boto, collections, cPickle,json, glob , numpy as np,os, pandas as pd, pickle, random, re, time,matplotlib.pyplot as plt\n",
    "% matplotlib inline\n",
    "from sklearn.preprocessing import LabelEncoder\n",
    "from sklearn.metrics import roc_curve, auc"
   ]
  },
  {
   "cell_type": "code",
   "execution_count": 2,
   "metadata": {
    "collapsed": true
   },
   "outputs": [],
   "source": [
    "TAC = pd.read_csv('ffclean6-Copy1.csv')"
   ]
  },
  {
   "cell_type": "code",
   "execution_count": 3,
   "metadata": {
    "collapsed": true
   },
   "outputs": [],
   "source": [
    "#ATAC_2 = pd.read_csv('ffclean6-Copy1.csv')"
   ]
  },
  {
   "cell_type": "code",
   "execution_count": 4,
   "metadata": {
    "collapsed": false
   },
   "outputs": [],
   "source": [
    "#set(TAC['pnns_groups_1'])"
   ]
  },
  {
   "cell_type": "code",
   "execution_count": 5,
   "metadata": {
    "collapsed": false
   },
   "outputs": [
    {
     "data": {
      "text/html": [
       "<div>\n",
       "<table border=\"1\" class=\"dataframe\">\n",
       "  <thead>\n",
       "    <tr style=\"text-align: right;\">\n",
       "      <th></th>\n",
       "      <th>code</th>\n",
       "      <th>creator</th>\n",
       "      <th>created_datetime</th>\n",
       "      <th>last_modified_datetime</th>\n",
       "      <th>product_name</th>\n",
       "      <th>quantity</th>\n",
       "      <th>packaging</th>\n",
       "      <th>brands</th>\n",
       "      <th>categories_en</th>\n",
       "      <th>countries_en</th>\n",
       "      <th>...</th>\n",
       "      <th>fat_100g</th>\n",
       "      <th>saturated_fat_100g</th>\n",
       "      <th>carbohydrates_100g</th>\n",
       "      <th>sugars_100g</th>\n",
       "      <th>fiber_100g</th>\n",
       "      <th>proteins_100g</th>\n",
       "      <th>salt_100g</th>\n",
       "      <th>sodium_100g</th>\n",
       "      <th>nutrition_score_fr_100g</th>\n",
       "      <th>nutrition_score_uk_100g</th>\n",
       "    </tr>\n",
       "  </thead>\n",
       "  <tbody>\n",
       "    <tr>\n",
       "      <th>0</th>\n",
       "      <td>27533024.0</td>\n",
       "      <td>tacinte</td>\n",
       "      <td>2014-12-16T12:29:19Z</td>\n",
       "      <td>2015-09-22T09:32:26Z</td>\n",
       "      <td>Luxury Christmas Pudding</td>\n",
       "      <td>454g</td>\n",
       "      <td>plastic,bowl</td>\n",
       "      <td>Asda,Asda Extra Special</td>\n",
       "      <td>Desserts,Puddings,Biscuits-et-gateaux,Gateaux,...</td>\n",
       "      <td>United Kingdom</td>\n",
       "      <td>...</td>\n",
       "      <td>7.0</td>\n",
       "      <td>3.6</td>\n",
       "      <td>54.2</td>\n",
       "      <td>44.0</td>\n",
       "      <td>4.7</td>\n",
       "      <td>3.9</td>\n",
       "      <td>0.200000</td>\n",
       "      <td>0.07874</td>\n",
       "      <td>10</td>\n",
       "      <td>10</td>\n",
       "    </tr>\n",
       "    <tr>\n",
       "      <th>1</th>\n",
       "      <td>27533048.0</td>\n",
       "      <td>tacinte</td>\n",
       "      <td>2014-12-16T12:28:35Z</td>\n",
       "      <td>2015-08-09T17:35:41Z</td>\n",
       "      <td>Luxury Christmas Pudding</td>\n",
       "      <td>907g</td>\n",
       "      <td>plastic,bowl</td>\n",
       "      <td>Asda,Asda Extra Special</td>\n",
       "      <td>Sugary snacks,Desserts,Biscuits and cakes,Cake...</td>\n",
       "      <td>United Kingdom</td>\n",
       "      <td>...</td>\n",
       "      <td>7.0</td>\n",
       "      <td>3.6</td>\n",
       "      <td>54.2</td>\n",
       "      <td>44.0</td>\n",
       "      <td>4.7</td>\n",
       "      <td>3.9</td>\n",
       "      <td>0.199898</td>\n",
       "      <td>0.07870</td>\n",
       "      <td>10</td>\n",
       "      <td>10</td>\n",
       "    </tr>\n",
       "    <tr>\n",
       "      <th>2</th>\n",
       "      <td>40608754.0</td>\n",
       "      <td>andre</td>\n",
       "      <td>2012-08-15T09:48:28Z</td>\n",
       "      <td>2015-08-09T17:35:31Z</td>\n",
       "      <td>Pepsi, Nouveau goût !</td>\n",
       "      <td>15 cl</td>\n",
       "      <td>Canette aluminium</td>\n",
       "      <td>Pepsi</td>\n",
       "      <td>Beverages,Carbonated drinks,Sodas,Colas,Sugare...</td>\n",
       "      <td>France</td>\n",
       "      <td>...</td>\n",
       "      <td>0.0</td>\n",
       "      <td>0.0</td>\n",
       "      <td>10.4</td>\n",
       "      <td>10.4</td>\n",
       "      <td>0.0</td>\n",
       "      <td>0.0</td>\n",
       "      <td>0.025400</td>\n",
       "      <td>0.01000</td>\n",
       "      <td>13</td>\n",
       "      <td>2</td>\n",
       "    </tr>\n",
       "    <tr>\n",
       "      <th>3</th>\n",
       "      <td>87177756.0</td>\n",
       "      <td>tacite</td>\n",
       "      <td>2015-06-06T10:28:06Z</td>\n",
       "      <td>2015-06-06T11:13:26Z</td>\n",
       "      <td>7Up</td>\n",
       "      <td>33 cl</td>\n",
       "      <td>Canette</td>\n",
       "      <td>7Up,Pepsico</td>\n",
       "      <td>Beverages,Plant-based beverages,Carbonated dri...</td>\n",
       "      <td>France</td>\n",
       "      <td>...</td>\n",
       "      <td>0.0</td>\n",
       "      <td>0.0</td>\n",
       "      <td>10.4</td>\n",
       "      <td>10.4</td>\n",
       "      <td>NaN</td>\n",
       "      <td>0.0</td>\n",
       "      <td>0.100000</td>\n",
       "      <td>0.03937</td>\n",
       "      <td>13</td>\n",
       "      <td>2</td>\n",
       "    </tr>\n",
       "    <tr>\n",
       "      <th>4</th>\n",
       "      <td>790310013.0</td>\n",
       "      <td>malikele</td>\n",
       "      <td>2014-01-02T17:03:07Z</td>\n",
       "      <td>2015-11-04T15:08:31Z</td>\n",
       "      <td>Sour Fruit Gummies</td>\n",
       "      <td>3.5 oz</td>\n",
       "      <td>NaN</td>\n",
       "      <td>Candy Crush</td>\n",
       "      <td>Sugary snacks,Confectioneries,Candies</td>\n",
       "      <td>Germany</td>\n",
       "      <td>...</td>\n",
       "      <td>0.0</td>\n",
       "      <td>0.0</td>\n",
       "      <td>75.0</td>\n",
       "      <td>57.5</td>\n",
       "      <td>0.0</td>\n",
       "      <td>5.0</td>\n",
       "      <td>0.127000</td>\n",
       "      <td>0.05000</td>\n",
       "      <td>14</td>\n",
       "      <td>14</td>\n",
       "    </tr>\n",
       "  </tbody>\n",
       "</table>\n",
       "<p>5 rows × 27 columns</p>\n",
       "</div>"
      ],
      "text/plain": [
       "          code   creator      created_datetime last_modified_datetime  \\\n",
       "0   27533024.0   tacinte  2014-12-16T12:29:19Z   2015-09-22T09:32:26Z   \n",
       "1   27533048.0   tacinte  2014-12-16T12:28:35Z   2015-08-09T17:35:41Z   \n",
       "2   40608754.0     andre  2012-08-15T09:48:28Z   2015-08-09T17:35:31Z   \n",
       "3   87177756.0    tacite  2015-06-06T10:28:06Z   2015-06-06T11:13:26Z   \n",
       "4  790310013.0  malikele  2014-01-02T17:03:07Z   2015-11-04T15:08:31Z   \n",
       "\n",
       "               product_name quantity          packaging  \\\n",
       "0  Luxury Christmas Pudding     454g       plastic,bowl   \n",
       "1  Luxury Christmas Pudding     907g       plastic,bowl   \n",
       "2     Pepsi, Nouveau goût !    15 cl  Canette aluminium   \n",
       "3                       7Up    33 cl            Canette   \n",
       "4        Sour Fruit Gummies   3.5 oz                NaN   \n",
       "\n",
       "                    brands                                      categories_en  \\\n",
       "0  Asda,Asda Extra Special  Desserts,Puddings,Biscuits-et-gateaux,Gateaux,...   \n",
       "1  Asda,Asda Extra Special  Sugary snacks,Desserts,Biscuits and cakes,Cake...   \n",
       "2                    Pepsi  Beverages,Carbonated drinks,Sodas,Colas,Sugare...   \n",
       "3              7Up,Pepsico  Beverages,Plant-based beverages,Carbonated dri...   \n",
       "4              Candy Crush              Sugary snacks,Confectioneries,Candies   \n",
       "\n",
       "     countries_en           ...             fat_100g  saturated_fat_100g  \\\n",
       "0  United Kingdom           ...                  7.0                 3.6   \n",
       "1  United Kingdom           ...                  7.0                 3.6   \n",
       "2          France           ...                  0.0                 0.0   \n",
       "3          France           ...                  0.0                 0.0   \n",
       "4         Germany           ...                  0.0                 0.0   \n",
       "\n",
       "  carbohydrates_100g sugars_100g fiber_100g proteins_100g  salt_100g  \\\n",
       "0               54.2        44.0        4.7           3.9   0.200000   \n",
       "1               54.2        44.0        4.7           3.9   0.199898   \n",
       "2               10.4        10.4        0.0           0.0   0.025400   \n",
       "3               10.4        10.4        NaN           0.0   0.100000   \n",
       "4               75.0        57.5        0.0           5.0   0.127000   \n",
       "\n",
       "   sodium_100g  nutrition_score_fr_100g  nutrition_score_uk_100g  \n",
       "0      0.07874                       10                       10  \n",
       "1      0.07870                       10                       10  \n",
       "2      0.01000                       13                        2  \n",
       "3      0.03937                       13                        2  \n",
       "4      0.05000                       14                       14  \n",
       "\n",
       "[5 rows x 27 columns]"
      ]
     },
     "execution_count": 5,
     "metadata": {},
     "output_type": "execute_result"
    }
   ],
   "source": [
    "TAC.head()"
   ]
  },
  {
   "cell_type": "code",
   "execution_count": 78,
   "metadata": {
    "collapsed": false
   },
   "outputs": [],
   "source": [
    "TAC_clean = TAC.dropna()\n",
    "TAC_group = TAC[(TAC['pnns_groups_1'] == \"Sugary snacks\") |\n",
    "                (TAC['pnns_groups_1'] == \"Milk and dairy products\") |\n",
    "               (TAC['pnns_groups_1'] == \"Fish Meat Eggs\") |\n",
    "               (TAC['pnns_groups_1'] == \"fruits-and-vegetables\")] "
   ]
  },
  {
   "cell_type": "code",
   "execution_count": 7,
   "metadata": {
    "collapsed": false
   },
   "outputs": [],
   "source": [
    "TAC_group_clean = TAC_group.dropna()"
   ]
  },
  {
   "cell_type": "code",
   "execution_count": 8,
   "metadata": {
    "collapsed": false
   },
   "outputs": [],
   "source": [
    "X = TAC_group_clean [['energy_100g','fat_100g','saturated_fat_100g',\n",
    "           'carbohydrates_100g','sugars_100g','fiber_100g',\n",
    "            'proteins_100g','salt_100g','sodium_100g',\n",
    "           'nutrition_score_fr_100g','nutrition_score_uk_100g']]\n",
    "\n",
    "y = TAC_group_clean['pnns_groups_1']"
   ]
  },
  {
   "cell_type": "code",
   "execution_count": 9,
   "metadata": {
    "collapsed": false
   },
   "outputs": [],
   "source": [
    "le = LabelEncoder()\n",
    "le.fit(y)\n",
    "labels = le.transform(y) "
   ]
  },
  {
   "cell_type": "code",
   "execution_count": 10,
   "metadata": {
    "collapsed": false
   },
   "outputs": [
    {
     "data": {
      "text/plain": [
       "4"
      ]
     },
     "execution_count": 10,
     "metadata": {},
     "output_type": "execute_result"
    }
   ],
   "source": [
    "len(set(y))"
   ]
  },
  {
   "cell_type": "code",
   "execution_count": 11,
   "metadata": {
    "collapsed": false
   },
   "outputs": [
    {
     "data": {
      "text/plain": [
       "0.97185741088180111"
      ]
     },
     "execution_count": 11,
     "metadata": {},
     "output_type": "execute_result"
    }
   ],
   "source": [
    "X_train, X_test, y_train, y_test = train_test_split(X ,labels )\n",
    "#clf = OneVsRestClassifier(LogisticRegression())\n",
    "clf = OneVsRestClassifier(GradientBoostingClassifier())\n",
    "#clf = OneVsRestClassifier(SVC(kernel='linear',probability=True))\n",
    "clf.fit(X_train,y_train)\n",
    "clf.score(X_test,y_test)"
   ]
  },
  {
   "cell_type": "code",
   "execution_count": 12,
   "metadata": {
    "collapsed": false
   },
   "outputs": [
    {
     "data": {
      "text/plain": [
       "u'%r'"
      ]
     },
     "execution_count": 12,
     "metadata": {},
     "output_type": "execute_result"
    }
   ],
   "source": [
    "precision"
   ]
  },
  {
   "cell_type": "code",
   "execution_count": 13,
   "metadata": {
    "collapsed": true
   },
   "outputs": [],
   "source": [
    "y_pred =clf.predict(X_test).reshape(-1,1)"
   ]
  },
  {
   "cell_type": "code",
   "execution_count": 14,
   "metadata": {
    "collapsed": false
   },
   "outputs": [
    {
     "data": {
      "text/plain": [
       "{'Beverages',\n",
       " 'Cereals and potatoes',\n",
       " 'Composite foods',\n",
       " 'Fat and sauces',\n",
       " 'Fish Meat Eggs',\n",
       " 'Fruits and vegetables',\n",
       " 'Milk and dairy products',\n",
       " 'Salty snacks',\n",
       " 'Sugary snacks',\n",
       " 'cereals-and-potatoes',\n",
       " 'fruits-and-vegetables',\n",
       " 'salty-snacks',\n",
       " 'sugary-snacks',\n",
       " 'unknown'}"
      ]
     },
     "execution_count": 14,
     "metadata": {},
     "output_type": "execute_result"
    }
   ],
   "source": [
    "set(TAC_clean['pnns_groups_1'])"
   ]
  },
  {
   "cell_type": "code",
   "execution_count": 15,
   "metadata": {
    "collapsed": false
   },
   "outputs": [
    {
     "data": {
      "text/plain": [
       "array([[309,   2,   3,   0],\n",
       "       [  8, 436,   9,   2],\n",
       "       [  1,  14, 723,   1],\n",
       "       [  0,   3,   2,  86]])"
      ]
     },
     "execution_count": 15,
     "metadata": {},
     "output_type": "execute_result"
    }
   ],
   "source": [
    "from sklearn.metrics import confusion_matrix\n",
    "\n",
    "confusion_matrix(y_test,y_pred)"
   ]
  },
  {
   "cell_type": "code",
   "execution_count": 16,
   "metadata": {
    "collapsed": false
   },
   "outputs": [
    {
     "data": {
      "text/plain": [
       "{'Fish Meat Eggs',\n",
       " 'Milk and dairy products',\n",
       " 'Sugary snacks',\n",
       " 'fruits-and-vegetables'}"
      ]
     },
     "execution_count": 16,
     "metadata": {},
     "output_type": "execute_result"
    }
   ],
   "source": [
    "set(TAC_group_clean['pnns_groups_1'])"
   ]
  },
  {
   "cell_type": "code",
   "execution_count": 17,
   "metadata": {
    "collapsed": false
   },
   "outputs": [],
   "source": [
    "#X_test"
   ]
  },
  {
   "cell_type": "code",
   "execution_count": 18,
   "metadata": {
    "collapsed": false
   },
   "outputs": [
    {
     "name": "stderr",
     "output_type": "stream",
     "text": [
      "/anaconda/lib/python2.7/site-packages/ipykernel/__main__.py:1: UserWarning: Boolean Series key will be reindexed to match DataFrame index.\n",
      "  if __name__ == '__main__':\n"
     ]
    }
   ],
   "source": [
    "Fish_Meat_Eggs = X_test[TAC_group_clean['pnns_groups_1'] == 'Fish Meat Eggs']\n",
    "Milk_and_dairy_products = TAC_group_clean[TAC_group_clean['pnns_groups_1'] == 'Milk and dairy products']\n",
    "Sugary_snacks = TAC_group_clean[TAC_group_clean['pnns_groups_1'] == 'Sugary snacks']\n",
    "fruits_and_vegetables = TAC_group_clean[TAC_group_clean['pnns_groups_1'] == 'fruits-and-vegetables']"
   ]
  },
  {
   "cell_type": "code",
   "execution_count": 19,
   "metadata": {
    "collapsed": false
   },
   "outputs": [
    {
     "name": "stdout",
     "output_type": "stream",
     "text": [
      "(314, 11)\n",
      "(1706, 27)\n",
      "(3045, 27)\n",
      "(367, 27)\n"
     ]
    }
   ],
   "source": [
    "print Fish_Meat_Eggs.shape\n",
    "print Milk_and_dairy_products.shape\n",
    "print Sugary_snacks.shape\n",
    "print fruits_and_vegetables.shape"
   ]
  },
  {
   "cell_type": "code",
   "execution_count": 20,
   "metadata": {
    "collapsed": true
   },
   "outputs": [],
   "source": [
    "lst = ['Fish Meat Eggs', 'Milk and dairy products', 'Sugary snacks',\n",
    "       'fruits-and-vegetables']"
   ]
  },
  {
   "cell_type": "code",
   "execution_count": 21,
   "metadata": {
    "collapsed": false
   },
   "outputs": [
    {
     "data": {
      "image/png": "[encoded data removed]",
      "text/plain": [
       "<matplotlib.figure.Figure at 0x10577b590>"
      ]
     },
     "metadata": {},
     "output_type": "display_data"
    }
   ],
   "source": [
    "import matplotlib.pyplot as plt\n",
    "%matplotlib inline \n",
    "\n",
    "cmap=plt.cm.Blues\n",
    "\n",
    "plt.figure(figsize = (5,5))\n",
    "plt.imshow(confusion_matrix(y_test,y_pred),\n",
    "           interpolation='nearest', cmap=cmap)\n",
    "tick_marks = np.arange(len(lst))\n",
    "plt.xticks(tick_marks, lst, rotation=90)\n",
    "plt.yticks(tick_marks, lst)\n",
    "plt.show()"
   ]
  },
  {
   "cell_type": "code",
   "execution_count": 59,
   "metadata": {
    "collapsed": false
   },
   "outputs": [],
   "source": [
    "y_score = clf.predict_proba(X_test)"
   ]
  },
  {
   "cell_type": "code",
   "execution_count": 100,
   "metadata": {
    "collapsed": false
   },
   "outputs": [],
   "source": [
    "y = TAC_group_clean['pnns_groups_1']\n",
    "#y = label_binarize(y, classes=[0, 1,2,3])"
   ]
  },
  {
   "cell_type": "code",
   "execution_count": 101,
   "metadata": {
    "collapsed": false
   },
   "outputs": [],
   "source": [
    "y = np.asarray(pd.get_dummies(labels))"
   ]
  },
  {
   "cell_type": "code",
   "execution_count": 102,
   "metadata": {
    "collapsed": false
   },
   "outputs": [],
   "source": [
    "n_classes = y.shape[1]\n",
    "X_train, X_test, y_train, y_test = train_test_split(X, y, test_size=.5,\n",
    "                                                    random_state=42)\n",
    "\n",
    "# Learn to predict each class against the other\n",
    "classifier = OneVsRestClassifier(GradientBoostingClassifier())\n",
    "y_score = classifier.fit(X_train, y_train).decision_function(X_test)"
   ]
  },
  {
   "cell_type": "code",
   "execution_count": 105,
   "metadata": {
    "collapsed": false
   },
   "outputs": [],
   "source": [
    "# Compute ROC curve and ROC area for each class\n",
    "fpr = dict()\n",
    "tpr = dict()\n",
    "roc_auc = dict()\n",
    "for i in range(n_classes):\n",
    "    fpr[i], tpr[i], _ = roc_curve(y_test[:, i], y_score[:, i])\n",
    "    roc_auc[i] = auc(fpr[i], tpr[i])"
   ]
  },
  {
   "cell_type": "code",
   "execution_count": 109,
   "metadata": {
    "collapsed": false
   },
   "outputs": [
    {
     "data": {
      "text/plain": [
       "[0, 1, 2, 3]"
      ]
     },
     "execution_count": 109,
     "metadata": {},
     "output_type": "execute_result"
    }
   ],
   "source": [
    "fpr.keys()"
   ]
  },
  {
   "cell_type": "code",
   "execution_count": null,
   "metadata": {
    "collapsed": true
   },
   "outputs": [],
   "source": [
    "{'Fish Meat Eggs',\n",
    " 'Milk and dairy products',\n",
    " 'Sugary snacks',\n",
    " 'fruits-and-vegetables'}"
   ]
  },
  {
   "cell_type": "code",
   "execution_count": 110,
   "metadata": {
    "collapsed": false
   },
   "outputs": [
    {
     "data": {
      "image/png": "[encoded data removed]",
      "text/plain": [
       "<matplotlib.figure.Figure at 0x11b0e5cd0>"
      ]
     },
     "metadata": {},
     "output_type": "display_data"
    }
   ],
   "source": [
    "plt.figure(figsize=(10,5))\n",
    "plt.plot(fpr[0], tpr[0] , label = 'Fish Meat Eggs' )\n",
    "plt.plot(fpr[1], tpr[1], label = 'Milk and dairy products' )\n",
    "plt.plot(fpr[2], tpr[2], label = 'Sugary snacks')\n",
    "plt.plot(fpr[3], tpr[3],label = 'Sugary snacks' )\n",
    "# plt.ylim([.5,1])\n",
    "# plt.xlim([0,.5])\n",
    "plt.legend()\n",
    "plt.plot(np.linspace(0,1),np.linspace(0,1) , linestyle = '--')\n",
    "plt.xlabel(\"False Positive Rate\")\n",
    "plt.ylabel(\"True Positive Rate\")\n",
    "plt.title(\"ROC plot\")\n",
    "plt.show()"
   ]
  }
 ],
 "metadata": {
  "kernelspec": {
   "display_name": "Python [conda root]",
   "language": "python",
   "name": "conda-root-py"
  },
  "language_info": {
   "codemirror_mode": {
    "name": "ipython",
    "version": 2
   },
   "file_extension": ".py",
   "mimetype": "text/x-python",
   "name": "python",
   "nbconvert_exporter": "python",
   "pygments_lexer": "ipython2",
   "version": "2.7.12"
  }
 },
 "nbformat": 4,
 "nbformat_minor": 1
}
