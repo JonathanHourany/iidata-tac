{
 "cells": [
  {
   "cell_type": "code",
   "execution_count": 2,
   "metadata": {
    "collapsed": false
   },
   "outputs": [
    {
     "data": {
      "text/plain": [
       "u'/Users/jared/Desktop'"
      ]
     },
     "execution_count": 2,
     "metadata": {},
     "output_type": "execute_result"
    }
   ],
   "source": [
    "pwd"
   ]
  },
  {
   "cell_type": "code",
   "execution_count": 8,
   "metadata": {
    "collapsed": false
   },
   "outputs": [
    {
     "name": "stderr",
     "output_type": "stream",
     "text": [
      "/Users/jared/anaconda/lib/python2.7/site-packages/matplotlib/__init__.py:872: UserWarning: axes.color_cycle is deprecated and replaced with axes.prop_cycle; please use the latter.\n",
      "  warnings.warn(self.msg_depr % (key, alt_key))\n"
     ]
    }
   ],
   "source": [
    "import numpy as np\n",
    "import pandas as pd\n",
    "import matplotlib.pyplot as plt\n",
    "\n",
    "# use seaborn for plot defaults\n",
    "# this can be safely commented out\n",
    "import seaborn; seaborn.set()\n",
    "from sklearn.linear_model import LinearRegression\n"
   ]
  },
  {
   "cell_type": "code",
   "execution_count": 7,
   "metadata": {
    "collapsed": false
   },
   "outputs": [
    {
     "data": {
      "text/plain": [
       "<bound method DataFrame.head of       Unnamed: 0  energy_100g  fat_100g  saturated_fat_100g  \\\n",
       "0              1       1284.0      7.00                3.60   \n",
       "1              2       1360.0      0.00                0.00   \n",
       "2              3        586.0      0.00                0.00   \n",
       "3              4       1724.0     18.00                2.00   \n",
       "4              5       2172.0     29.10               17.00   \n",
       "5              6       1981.0     20.80               13.70   \n",
       "6              7        188.0      2.10                0.70   \n",
       "7              8        615.0      6.40                2.60   \n",
       "8              9        235.0      0.50                0.10   \n",
       "9             10        332.0      0.00                0.00   \n",
       "10            11       2230.0     26.70               13.30   \n",
       "11            12       2400.0     40.00               25.00   \n",
       "12            13       2300.0     32.50               20.00   \n",
       "13            14       2200.0     30.00               20.00   \n",
       "14            15       2230.0     30.00               10.00   \n",
       "15            16       2260.0     32.40               10.80   \n",
       "16            17       2260.0     32.40               10.80   \n",
       "17            18       2260.0     32.40               10.80   \n",
       "18            19       1820.0     15.40                8.97   \n",
       "19            20       1940.0     17.10               17.10   \n",
       "20            22       1820.0     15.40                8.97   \n",
       "21            23        443.0      4.12                2.06   \n",
       "22            24         70.0      0.00                0.00   \n",
       "23            25         86.8      0.00                0.00   \n",
       "24            26        442.0      0.00                0.00   \n",
       "25            27        382.0      0.00                0.00   \n",
       "26            28       2433.0     45.60               27.60   \n",
       "27            29       1928.0     17.70               10.10   \n",
       "28            30       1324.0      4.90                2.90   \n",
       "29            31       1324.0      4.90                2.90   \n",
       "...          ...          ...       ...                 ...   \n",
       "8094       13098        284.0      0.10                0.00   \n",
       "8095       13099       1570.0      0.00                0.00   \n",
       "8096       13101        376.0      3.50                1.50   \n",
       "8097       13103        344.0      0.90                0.33   \n",
       "8098       13108       1797.0     35.00               14.00   \n",
       "8099       13110       1741.0     13.70               10.50   \n",
       "8100       13111       1423.0      0.50                0.10   \n",
       "8101       13112       2449.0     45.90                8.70   \n",
       "8102       13117        266.0      3.50                2.10   \n",
       "8103       13122       2400.0     42.50               15.00   \n",
       "8104       13123        206.0      1.70                1.00   \n",
       "8105       13125       2336.0     50.00               25.00   \n",
       "8106       13129       2176.0     27.60               16.00   \n",
       "8107       13133       2380.0     52.80               19.20   \n",
       "8108       13134        370.0      0.40                0.30   \n",
       "8109       13152       1080.0      1.00                1.00   \n",
       "8110       13153        101.0      0.10                0.00   \n",
       "8111       13154        129.0      0.30                0.10   \n",
       "8112       13156        122.0      0.10                0.10   \n",
       "8113       13158         68.0      0.10                0.10   \n",
       "8114       13160        750.0      0.20                0.00   \n",
       "8115       13167         80.0      1.00                1.00   \n",
       "8116       13168        310.0      1.00                1.00   \n",
       "8117       13172       1420.0      0.10                0.10   \n",
       "8118       13173       1580.0     17.90                5.60   \n",
       "8119       13186        915.0      0.00                0.00   \n",
       "8120       13193        590.0      5.00                3.10   \n",
       "8121       13196       1549.0     29.00               17.00   \n",
       "8122       13197        176.0      2.00                0.40   \n",
       "8123       13198       1017.0      1.30                1.28   \n",
       "\n",
       "      carbohydrates_100g  sugars_100g  fiber_100g  proteins_100g  salt_100g  \\\n",
       "0                  54.20        44.00       4.700          3.900   0.199898   \n",
       "1                  75.00        57.50       0.000          5.000   0.127000   \n",
       "2                  34.00        24.00       0.000          0.000   0.076200   \n",
       "3                  57.00        31.00       1.000          5.000   0.630000   \n",
       "4                  58.40        33.50       1.300          5.500   1.000000   \n",
       "5                  63.60        31.80       3.300          6.100   0.570000   \n",
       "6                   5.30         2.40       0.800          0.800   0.750000   \n",
       "7                   0.00         0.00       0.000         22.100   0.177800   \n",
       "8                  14.00        11.00       0.500          0.500   0.020000   \n",
       "9                  15.00        10.10       0.000          4.850   0.179000   \n",
       "10                 66.70        33.30       6.670          6.670   0.931000   \n",
       "11                 50.00        50.00       2.500          5.000   0.222000   \n",
       "12                 55.00        52.50       2.500          7.500   0.159000   \n",
       "13                 55.00        50.00       2.500          5.000   0.159000   \n",
       "14                 56.70        56.70       3.330          6.670   0.084700   \n",
       "15                 56.80        56.80       2.700          5.410   0.103000   \n",
       "16                 56.80        56.80       2.700          5.410   0.103000   \n",
       "17                 56.80        56.80       2.700          5.410   0.103000   \n",
       "18                 69.20        51.30       0.000          2.560   0.684000   \n",
       "19                 75.60        58.50       0.000          2.440   0.589000   \n",
       "20                 69.20        51.30       0.000          2.560   0.456000   \n",
       "21                 15.90        14.10       0.000          2.940   0.112000   \n",
       "22                  3.33         1.67       1.670          0.833   0.847000   \n",
       "23                  4.13         2.48       0.826          0.826   0.378000   \n",
       "24                 18.20         9.09       3.030          6.060   0.154000   \n",
       "25                 21.20        12.10       6.060          3.030   1.230000   \n",
       "26                 31.30        26.80      10.600          7.600   0.203200   \n",
       "27                 68.50        44.40       2.700          5.100   0.810000   \n",
       "28                 62.90        45.40       4.400          2.300   0.199898   \n",
       "29                 62.90        45.40       4.400          2.300   0.199898   \n",
       "...                  ...          ...         ...            ...        ...   \n",
       "8094               14.00        14.00       0.500          0.300   0.100000   \n",
       "8095               92.00        84.00       2.000          0.000   4.013200   \n",
       "8096               12.50         7.50       0.000          3.000   0.127000   \n",
       "8097                0.90         0.00       0.000         17.600   0.600000   \n",
       "8098                0.50         0.50       0.000         29.000   4.000000   \n",
       "8099               62.00        50.30       9.200          5.700   1.143000   \n",
       "8100               77.00        45.00       0.000          6.300   0.080000   \n",
       "8101               17.80         1.00       3.900         24.500   0.050800   \n",
       "8102                4.70         4.70       0.000          3.300   0.102000   \n",
       "8103               42.50        37.50       2.500          7.500   0.191000   \n",
       "8104                4.80         4.80       0.000          3.600   0.000000   \n",
       "8105               39.00        36.00       9.000          7.100   0.500000   \n",
       "8106               61.00        54.80       1.000          6.500   0.240000   \n",
       "8107               18.50         6.20       5.500         25.400   0.454660   \n",
       "8108               16.00         0.60       7.300          5.200   0.680720   \n",
       "8109               61.90        60.30       1.100          1.000   0.063500   \n",
       "8110                1.50         1.50       3.900          1.900   0.609600   \n",
       "8111                3.50         0.10       3.600          1.800   0.607060   \n",
       "8112                5.70         1.40       1.300          0.700   0.012700   \n",
       "8113                1.60         1.60       1.600          1.600   0.701040   \n",
       "8114               41.40        37.80       2.000          1.000   0.076200   \n",
       "8115                4.00         3.50       1.300          0.900   0.017780   \n",
       "8116               17.30        17.30       1.300          1.000   0.000000   \n",
       "8117               82.00        41.00       0.100          0.100   0.668020   \n",
       "8118               47.30        27.00       1.600          5.700   1.127760   \n",
       "8119                0.00         0.00       0.000          0.000   0.012700   \n",
       "8120               18.60        18.10       0.000          4.700   0.228600   \n",
       "8121                0.50         0.50       0.000         28.000   0.625000   \n",
       "8122                3.30         3.00       0.000          2.600   0.129540   \n",
       "8123               95.87         0.12       0.005          0.040   0.005000   \n",
       "\n",
       "      sodium_100g  nutrition_score_fr_100g  nutrition_score_uk_100g  label  \n",
       "0        0.078700                       10                       10      4  \n",
       "1        0.050000                       14                       14      4  \n",
       "2        0.030000                        6                        6      4  \n",
       "3        0.248031                       13                       13      4  \n",
       "4        0.393701                       26                       26      4  \n",
       "5        0.224409                       20                       20      4  \n",
       "6        0.295276                        2                        2      2  \n",
       "7        0.070000                       -2                       -2      1  \n",
       "8        0.007874                       -3                       -3      2  \n",
       "9        0.070500                       -1                       -1      3  \n",
       "10       0.367000                       22                       22      4  \n",
       "11       0.087500                       24                       24      4  \n",
       "12       0.062500                       23                       23      4  \n",
       "13       0.062500                       23                       23      4  \n",
       "14       0.033300                       21                       21      4  \n",
       "15       0.040500                       23                       23      4  \n",
       "16       0.040500                       23                       23      4  \n",
       "17       0.040500                       23                       23      4  \n",
       "18       0.269000                       25                       25      4  \n",
       "19       0.232000                       27                       27      4  \n",
       "20       0.179000                       24                       24      4  \n",
       "21       0.044100                        5                        5      3  \n",
       "22       0.333000                       -4                       -4      2  \n",
       "23       0.149000                       -5                       -5      2  \n",
       "24       0.060600                       -9                       -9      2  \n",
       "25       0.485000                       -3                       -3      2  \n",
       "26       0.080000                       17                       17      4  \n",
       "27       0.318898                       24                       24      4  \n",
       "28       0.078700                       10                       10      4  \n",
       "29       0.078700                       10                       10      4  \n",
       "...           ...                      ...                      ...    ...  \n",
       "8094     0.039370                       -2                       -2      2  \n",
       "8095     1.580000                       22                       22      4  \n",
       "8096     0.050000                        2                        2      3  \n",
       "8097     0.236220                       -2                       -2      1  \n",
       "8098     1.574803                       25                       25      1  \n",
       "8099     0.450000                       24                       24      4  \n",
       "8100     0.031496                       13                       13      4  \n",
       "8101     0.020000                       10                       10      2  \n",
       "8102     0.040000                        1                        1      3  \n",
       "8103     0.075000                       22                       22      4  \n",
       "8104     0.000000                       -1                       -1      3  \n",
       "8105     0.196850                       20                       20      4  \n",
       "8106     0.094488                       26                       26      4  \n",
       "8107     0.179000                       14                       14      4  \n",
       "8108     0.268000                      -10                      -10      2  \n",
       "8109     0.025000                       11                       11      4  \n",
       "8110     0.240000                       -9                       -9      2  \n",
       "8111     0.239000                       -9                       -9      2  \n",
       "8112     0.005000                       -6                       -6      2  \n",
       "8113     0.276000                       -4                       -4      2  \n",
       "8114     0.030000                        7                        7      4  \n",
       "8115     0.007000                       -6                       -6      2  \n",
       "8116     0.000000                       -3                       -3      2  \n",
       "8117     0.263000                       15                       15      4  \n",
       "8118     0.444000                       16                       16      4  \n",
       "8119     0.005000                        2                        2      4  \n",
       "8120     0.090000                        6                        6      3  \n",
       "8121     0.246063                       11                       16      3  \n",
       "8122     0.051000                       -1                       -1      3  \n",
       "8123     0.001969                        4                        4      4  \n",
       "\n",
       "[8124 rows x 13 columns]>"
      ]
     },
     "execution_count": 7,
     "metadata": {},
     "output_type": "execute_result"
    }
   ],
   "source": [
    "df = pd.read_csv(\"iidata.csv\")\n",
    "df.head"
   ]
  },
  {
   "cell_type": "code",
   "execution_count": 9,
   "metadata": {
    "collapsed": false
   },
   "outputs": [
    {
     "name": "stdout",
     "output_type": "stream",
     "text": [
      "True\n"
     ]
    }
   ],
   "source": [
    "model = LinearRegression(normalize=True)\n",
    "print(model.normalize)"
   ]
  },
  {
   "cell_type": "code",
   "execution_count": 11,
   "metadata": {
    "collapsed": true
   },
   "outputs": [],
   "source": [
    "y = df[['carbohydrates_100g']]\n",
    "X = df.drop('carbohydrates_100g', axis=1)"
   ]
  },
  {
   "cell_type": "code",
   "execution_count": 12,
   "metadata": {
    "collapsed": false
   },
   "outputs": [
    {
     "name": "stdout",
     "output_type": "stream",
     "text": [
      "(8124, 12)\n",
      "(8124, 1)\n"
     ]
    }
   ],
   "source": [
    "print X.shape\n",
    "print y.shape"
   ]
  },
  {
   "cell_type": "code",
   "execution_count": 20,
   "metadata": {
    "collapsed": false
   },
   "outputs": [],
   "source": [
    "from sklearn.cross_validation import train_test_split\n",
    "X_train, X_test, y_train, y_test = train_test_split(X,y)\n",
    "model.fit(X_train,y_train)\n",
    "ypred = model.predict(X_test)\n"
   ]
  },
  {
   "cell_type": "code",
   "execution_count": 13,
   "metadata": {
    "collapsed": false
   },
   "outputs": [
    {
     "data": {
      "text/plain": [
       "LinearRegression(copy_X=True, fit_intercept=True, n_jobs=1, normalize=True)"
      ]
     },
     "execution_count": 13,
     "metadata": {},
     "output_type": "execute_result"
    }
   ],
   "source": [
    "model.fit(X, y)"
   ]
  },
  {
   "cell_type": "code",
   "execution_count": 21,
   "metadata": {
    "collapsed": false
   },
   "outputs": [
    {
     "name": "stdout",
     "output_type": "stream",
     "text": [
      "model coefficients\n",
      "[[ -1.24202641e-05   5.18027145e-02  -1.90068084e+00  -1.41004774e-01\n",
      "    1.92659656e-02  -2.90823039e-01  -7.99817128e-01  -1.14879967e+02\n",
      "    2.91823643e+02   7.70879380e-01  -7.33694515e-01   2.89351876e+00]]\n",
      "model intercept\n",
      "[-4.71904464]\n"
     ]
    }
   ],
   "source": [
    "print \"model coefficients\"\n",
    "print(model.coef_)\n",
    "print \"model intercept\"\n",
    "print(model.intercept_)"
   ]
  },
  {
   "cell_type": "code",
   "execution_count": 22,
   "metadata": {
    "collapsed": false
   },
   "outputs": [
    {
     "name": "stdout",
     "output_type": "stream",
     "text": [
      "residual error around fit\n"
     ]
    },
    {
     "name": "stderr",
     "output_type": "stream",
     "text": [
      "/Users/jared/anaconda/lib/python2.7/site-packages/sklearn/utils/__init__.py:93: DeprecationWarning: Function residues_ is deprecated; ``residues_`` is deprecated and will be removed in 0.19\n",
      "  warnings.warn(msg, category=DeprecationWarning)\n"
     ]
    },
    {
     "data": {
      "text/plain": [
       "array([ 225771.94989327])"
      ]
     },
     "execution_count": 22,
     "metadata": {},
     "output_type": "execute_result"
    }
   ],
   "source": [
    "# residual error around fit\n",
    "print \"residual error around fit\"\n",
    "model.residues_"
   ]
  },
  {
   "cell_type": "code",
   "execution_count": 23,
   "metadata": {
    "collapsed": false
   },
   "outputs": [
    {
     "name": "stdout",
     "output_type": "stream",
     "text": [
      "Mean squared error: 40.06\n",
      "Variance score: 0.95\n"
     ]
    }
   ],
   "source": [
    "print(\"Mean squared error: %.2f\"\n",
    "      % np.mean((model.predict(X_test) - y_test) ** 2))\n",
    "# Explained variance score: 1 is perfect prediction\n",
    "print('Variance score: %.2f' % model.score(X_test, y_test))\n"
   ]
  },
  {
   "cell_type": "code",
   "execution_count": null,
   "metadata": {
    "collapsed": true
   },
   "outputs": [],
   "source": []
  }
 ],
 "metadata": {
  "kernelspec": {
   "display_name": "Python 2",
   "language": "python",
   "name": "python2"
  },
  "language_info": {
   "codemirror_mode": {
    "name": "ipython",
    "version": 2
   },
   "file_extension": ".py",
   "mimetype": "text/x-python",
   "name": "python",
   "nbconvert_exporter": "python",
   "pygments_lexer": "ipython2",
   "version": "2.7.12"
  }
 },
 "nbformat": 4,
 "nbformat_minor": 0
}
