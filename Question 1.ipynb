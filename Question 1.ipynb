{
 "cells": [
  {
   "cell_type": "code",
   "execution_count": 141,
   "metadata": {
    "collapsed": true
   },
   "outputs": [],
   "source": [
    "from __future__ import division\n",
    "import numpy as np\n",
    "import pandas as pd\n",
    "import seaborn as sns\n",
    "import matplotlib.pyplot as pyplot\n",
    "from scipy.stats import chisquare, ttest_ind\n",
    "%matplotlib inline"
   ]
  },
  {
   "cell_type": "code",
   "execution_count": 11,
   "metadata": {
    "collapsed": false
   },
   "outputs": [
    {
     "data": {
      "text/html": [
       "<div>\n",
       "<table border=\"1\" class=\"dataframe\">\n",
       "  <thead>\n",
       "    <tr style=\"text-align: right;\">\n",
       "      <th></th>\n",
       "      <th>code</th>\n",
       "      <th>creator</th>\n",
       "      <th>created_datetime</th>\n",
       "      <th>last_modified_datetime</th>\n",
       "      <th>product_name</th>\n",
       "      <th>quantity</th>\n",
       "      <th>packaging</th>\n",
       "      <th>brands</th>\n",
       "      <th>categories_en</th>\n",
       "      <th>countries_en</th>\n",
       "      <th>...</th>\n",
       "      <th>fat_100g</th>\n",
       "      <th>saturated_fat_100g</th>\n",
       "      <th>carbohydrates_100g</th>\n",
       "      <th>sugars_100g</th>\n",
       "      <th>fiber_100g</th>\n",
       "      <th>proteins_100g</th>\n",
       "      <th>salt_100g</th>\n",
       "      <th>sodium_100g</th>\n",
       "      <th>nutrition_score_fr_100g</th>\n",
       "      <th>nutrition_score_uk_100g</th>\n",
       "    </tr>\n",
       "  </thead>\n",
       "  <tbody>\n",
       "    <tr>\n",
       "      <th>0</th>\n",
       "      <td>27533024.0</td>\n",
       "      <td>tacinte</td>\n",
       "      <td>2014-12-16T12:29:19Z</td>\n",
       "      <td>2015-09-22T09:32:26Z</td>\n",
       "      <td>Luxury Christmas Pudding</td>\n",
       "      <td>454g</td>\n",
       "      <td>plastic,bowl</td>\n",
       "      <td>Asda,Asda Extra Special</td>\n",
       "      <td>Desserts,Puddings,Biscuits-et-gateaux,Gateaux,...</td>\n",
       "      <td>United Kingdom</td>\n",
       "      <td>...</td>\n",
       "      <td>7.0</td>\n",
       "      <td>3.6</td>\n",
       "      <td>54.2</td>\n",
       "      <td>44.0</td>\n",
       "      <td>4.7</td>\n",
       "      <td>3.9</td>\n",
       "      <td>0.200000</td>\n",
       "      <td>0.07874</td>\n",
       "      <td>10</td>\n",
       "      <td>10</td>\n",
       "    </tr>\n",
       "    <tr>\n",
       "      <th>1</th>\n",
       "      <td>27533048.0</td>\n",
       "      <td>tacinte</td>\n",
       "      <td>2014-12-16T12:28:35Z</td>\n",
       "      <td>2015-08-09T17:35:41Z</td>\n",
       "      <td>Luxury Christmas Pudding</td>\n",
       "      <td>907g</td>\n",
       "      <td>plastic,bowl</td>\n",
       "      <td>Asda,Asda Extra Special</td>\n",
       "      <td>Sugary snacks,Desserts,Biscuits and cakes,Cake...</td>\n",
       "      <td>United Kingdom</td>\n",
       "      <td>...</td>\n",
       "      <td>7.0</td>\n",
       "      <td>3.6</td>\n",
       "      <td>54.2</td>\n",
       "      <td>44.0</td>\n",
       "      <td>4.7</td>\n",
       "      <td>3.9</td>\n",
       "      <td>0.199898</td>\n",
       "      <td>0.07870</td>\n",
       "      <td>10</td>\n",
       "      <td>10</td>\n",
       "    </tr>\n",
       "    <tr>\n",
       "      <th>2</th>\n",
       "      <td>40608754.0</td>\n",
       "      <td>andre</td>\n",
       "      <td>2012-08-15T09:48:28Z</td>\n",
       "      <td>2015-08-09T17:35:31Z</td>\n",
       "      <td>Pepsi, Nouveau goût !</td>\n",
       "      <td>15 cl</td>\n",
       "      <td>Canette aluminium</td>\n",
       "      <td>Pepsi</td>\n",
       "      <td>Beverages,Carbonated drinks,Sodas,Colas,Sugare...</td>\n",
       "      <td>France</td>\n",
       "      <td>...</td>\n",
       "      <td>0.0</td>\n",
       "      <td>0.0</td>\n",
       "      <td>10.4</td>\n",
       "      <td>10.4</td>\n",
       "      <td>0.0</td>\n",
       "      <td>0.0</td>\n",
       "      <td>0.025400</td>\n",
       "      <td>0.01000</td>\n",
       "      <td>13</td>\n",
       "      <td>2</td>\n",
       "    </tr>\n",
       "    <tr>\n",
       "      <th>3</th>\n",
       "      <td>87177756.0</td>\n",
       "      <td>tacite</td>\n",
       "      <td>2015-06-06T10:28:06Z</td>\n",
       "      <td>2015-06-06T11:13:26Z</td>\n",
       "      <td>7Up</td>\n",
       "      <td>33 cl</td>\n",
       "      <td>Canette</td>\n",
       "      <td>7Up,Pepsico</td>\n",
       "      <td>Beverages,Plant-based beverages,Carbonated dri...</td>\n",
       "      <td>France</td>\n",
       "      <td>...</td>\n",
       "      <td>0.0</td>\n",
       "      <td>0.0</td>\n",
       "      <td>10.4</td>\n",
       "      <td>10.4</td>\n",
       "      <td>NaN</td>\n",
       "      <td>0.0</td>\n",
       "      <td>0.100000</td>\n",
       "      <td>0.03937</td>\n",
       "      <td>13</td>\n",
       "      <td>2</td>\n",
       "    </tr>\n",
       "    <tr>\n",
       "      <th>4</th>\n",
       "      <td>790310013.0</td>\n",
       "      <td>malikele</td>\n",
       "      <td>2014-01-02T17:03:07Z</td>\n",
       "      <td>2015-11-04T15:08:31Z</td>\n",
       "      <td>Sour Fruit Gummies</td>\n",
       "      <td>3.5 oz</td>\n",
       "      <td>NaN</td>\n",
       "      <td>Candy Crush</td>\n",
       "      <td>Sugary snacks,Confectioneries,Candies</td>\n",
       "      <td>Germany</td>\n",
       "      <td>...</td>\n",
       "      <td>0.0</td>\n",
       "      <td>0.0</td>\n",
       "      <td>75.0</td>\n",
       "      <td>57.5</td>\n",
       "      <td>0.0</td>\n",
       "      <td>5.0</td>\n",
       "      <td>0.127000</td>\n",
       "      <td>0.05000</td>\n",
       "      <td>14</td>\n",
       "      <td>14</td>\n",
       "    </tr>\n",
       "  </tbody>\n",
       "</table>\n",
       "<p>5 rows × 27 columns</p>\n",
       "</div>"
      ],
      "text/plain": [
       "          code   creator      created_datetime last_modified_datetime  \\\n",
       "0   27533024.0   tacinte  2014-12-16T12:29:19Z   2015-09-22T09:32:26Z   \n",
       "1   27533048.0   tacinte  2014-12-16T12:28:35Z   2015-08-09T17:35:41Z   \n",
       "2   40608754.0     andre  2012-08-15T09:48:28Z   2015-08-09T17:35:31Z   \n",
       "3   87177756.0    tacite  2015-06-06T10:28:06Z   2015-06-06T11:13:26Z   \n",
       "4  790310013.0  malikele  2014-01-02T17:03:07Z   2015-11-04T15:08:31Z   \n",
       "\n",
       "               product_name quantity          packaging  \\\n",
       "0  Luxury Christmas Pudding     454g       plastic,bowl   \n",
       "1  Luxury Christmas Pudding     907g       plastic,bowl   \n",
       "2     Pepsi, Nouveau goût !    15 cl  Canette aluminium   \n",
       "3                       7Up    33 cl            Canette   \n",
       "4        Sour Fruit Gummies   3.5 oz                NaN   \n",
       "\n",
       "                    brands                                      categories_en  \\\n",
       "0  Asda,Asda Extra Special  Desserts,Puddings,Biscuits-et-gateaux,Gateaux,...   \n",
       "1  Asda,Asda Extra Special  Sugary snacks,Desserts,Biscuits and cakes,Cake...   \n",
       "2                    Pepsi  Beverages,Carbonated drinks,Sodas,Colas,Sugare...   \n",
       "3              7Up,Pepsico  Beverages,Plant-based beverages,Carbonated dri...   \n",
       "4              Candy Crush              Sugary snacks,Confectioneries,Candies   \n",
       "\n",
       "     countries_en           ...             fat_100g  saturated_fat_100g  \\\n",
       "0  United Kingdom           ...                  7.0                 3.6   \n",
       "1  United Kingdom           ...                  7.0                 3.6   \n",
       "2          France           ...                  0.0                 0.0   \n",
       "3          France           ...                  0.0                 0.0   \n",
       "4         Germany           ...                  0.0                 0.0   \n",
       "\n",
       "  carbohydrates_100g sugars_100g fiber_100g proteins_100g  salt_100g  \\\n",
       "0               54.2        44.0        4.7           3.9   0.200000   \n",
       "1               54.2        44.0        4.7           3.9   0.199898   \n",
       "2               10.4        10.4        0.0           0.0   0.025400   \n",
       "3               10.4        10.4        NaN           0.0   0.100000   \n",
       "4               75.0        57.5        0.0           5.0   0.127000   \n",
       "\n",
       "   sodium_100g  nutrition_score_fr_100g  nutrition_score_uk_100g  \n",
       "0      0.07874                       10                       10  \n",
       "1      0.07870                       10                       10  \n",
       "2      0.01000                       13                        2  \n",
       "3      0.03937                       13                        2  \n",
       "4      0.05000                       14                       14  \n",
       "\n",
       "[5 rows x 27 columns]"
      ]
     },
     "execution_count": 11,
     "metadata": {},
     "output_type": "execute_result"
    }
   ],
   "source": [
    "df = pd.read_csv(\"data/ffclean6.csv\", encoding='utf-8')\n",
    "df.head()"
   ]
  },
  {
   "cell_type": "code",
   "execution_count": 12,
   "metadata": {
    "collapsed": false
   },
   "outputs": [
    {
     "data": {
      "text/plain": [
       "Index([u'code', u'creator', u'created_datetime', u'last_modified_datetime',\n",
       "       u'product_name', u'quantity', u'packaging', u'brands', u'categories_en',\n",
       "       u'countries_en', u'additives_n',\n",
       "       u'ingredients_that_may_be_from_palm_oil_n', u'pnns_groups_1',\n",
       "       u'pnns_groups_2', u'states_en', u'main_category_en', u'energy_100g',\n",
       "       u'fat_100g', u'saturated_fat_100g', u'carbohydrates_100g',\n",
       "       u'sugars_100g', u'fiber_100g', u'proteins_100g', u'salt_100g',\n",
       "       u'sodium_100g', u'nutrition_score_fr_100g', u'nutrition_score_uk_100g'],\n",
       "      dtype='object')"
      ]
     },
     "execution_count": 12,
     "metadata": {},
     "output_type": "execute_result"
    }
   ],
   "source": [
    "df.columns"
   ]
  },
  {
   "cell_type": "code",
   "execution_count": 13,
   "metadata": {
    "collapsed": false
   },
   "outputs": [
    {
     "data": {
      "text/html": [
       "<div>\n",
       "<table border=\"1\" class=\"dataframe\">\n",
       "  <thead>\n",
       "    <tr style=\"text-align: right;\">\n",
       "      <th></th>\n",
       "      <th>code</th>\n",
       "      <th>additives_n</th>\n",
       "      <th>ingredients_that_may_be_from_palm_oil_n</th>\n",
       "      <th>energy_100g</th>\n",
       "      <th>fat_100g</th>\n",
       "      <th>saturated_fat_100g</th>\n",
       "      <th>carbohydrates_100g</th>\n",
       "      <th>sugars_100g</th>\n",
       "      <th>fiber_100g</th>\n",
       "      <th>proteins_100g</th>\n",
       "      <th>salt_100g</th>\n",
       "      <th>sodium_100g</th>\n",
       "      <th>nutrition_score_fr_100g</th>\n",
       "      <th>nutrition_score_uk_100g</th>\n",
       "    </tr>\n",
       "  </thead>\n",
       "  <tbody>\n",
       "    <tr>\n",
       "      <th>count</th>\n",
       "      <td>3.114900e+04</td>\n",
       "      <td>29237.000000</td>\n",
       "      <td>29237.000000</td>\n",
       "      <td>31149.000000</td>\n",
       "      <td>31142.000000</td>\n",
       "      <td>31149.000000</td>\n",
       "      <td>31137.000000</td>\n",
       "      <td>31149.000000</td>\n",
       "      <td>21352.000000</td>\n",
       "      <td>31149.000000</td>\n",
       "      <td>31149.000000</td>\n",
       "      <td>31149.000000</td>\n",
       "      <td>31149.000000</td>\n",
       "      <td>31149.000000</td>\n",
       "    </tr>\n",
       "    <tr>\n",
       "      <th>mean</th>\n",
       "      <td>2.921483e+17</td>\n",
       "      <td>2.020864</td>\n",
       "      <td>0.156104</td>\n",
       "      <td>1086.702674</td>\n",
       "      <td>12.944264</td>\n",
       "      <td>5.159998</td>\n",
       "      <td>27.988388</td>\n",
       "      <td>12.698267</td>\n",
       "      <td>2.776973</td>\n",
       "      <td>7.364695</td>\n",
       "      <td>0.986919</td>\n",
       "      <td>0.388554</td>\n",
       "      <td>7.981637</td>\n",
       "      <td>7.719092</td>\n",
       "    </tr>\n",
       "    <tr>\n",
       "      <th>std</th>\n",
       "      <td>5.156076e+19</td>\n",
       "      <td>2.608891</td>\n",
       "      <td>0.468079</td>\n",
       "      <td>782.843014</td>\n",
       "      <td>16.800550</td>\n",
       "      <td>7.905305</td>\n",
       "      <td>27.365341</td>\n",
       "      <td>18.007295</td>\n",
       "      <td>3.918956</td>\n",
       "      <td>7.287275</td>\n",
       "      <td>3.656017</td>\n",
       "      <td>1.439429</td>\n",
       "      <td>9.110447</td>\n",
       "      <td>9.507575</td>\n",
       "    </tr>\n",
       "    <tr>\n",
       "      <th>min</th>\n",
       "      <td>1.040000e+02</td>\n",
       "      <td>0.000000</td>\n",
       "      <td>0.000000</td>\n",
       "      <td>0.000000</td>\n",
       "      <td>0.000000</td>\n",
       "      <td>0.000000</td>\n",
       "      <td>0.000000</td>\n",
       "      <td>-0.500000</td>\n",
       "      <td>0.000000</td>\n",
       "      <td>0.000000</td>\n",
       "      <td>0.000000</td>\n",
       "      <td>0.000000</td>\n",
       "      <td>-14.000000</td>\n",
       "      <td>-14.000000</td>\n",
       "    </tr>\n",
       "    <tr>\n",
       "      <th>25%</th>\n",
       "      <td>3.210179e+12</td>\n",
       "      <td>0.000000</td>\n",
       "      <td>0.000000</td>\n",
       "      <td>381.000000</td>\n",
       "      <td>1.100000</td>\n",
       "      <td>0.208000</td>\n",
       "      <td>4.500000</td>\n",
       "      <td>1.100000</td>\n",
       "      <td>0.500000</td>\n",
       "      <td>1.900000</td>\n",
       "      <td>0.080000</td>\n",
       "      <td>0.031496</td>\n",
       "      <td>1.000000</td>\n",
       "      <td>0.000000</td>\n",
       "    </tr>\n",
       "    <tr>\n",
       "      <th>50%</th>\n",
       "      <td>3.329490e+12</td>\n",
       "      <td>1.000000</td>\n",
       "      <td>0.000000</td>\n",
       "      <td>990.000000</td>\n",
       "      <td>6.000000</td>\n",
       "      <td>1.800000</td>\n",
       "      <td>14.600000</td>\n",
       "      <td>4.000000</td>\n",
       "      <td>1.800000</td>\n",
       "      <td>5.800000</td>\n",
       "      <td>0.510000</td>\n",
       "      <td>0.200787</td>\n",
       "      <td>7.000000</td>\n",
       "      <td>5.000000</td>\n",
       "    </tr>\n",
       "    <tr>\n",
       "      <th>75%</th>\n",
       "      <td>4.025500e+12</td>\n",
       "      <td>3.000000</td>\n",
       "      <td>0.000000</td>\n",
       "      <td>1651.000000</td>\n",
       "      <td>21.000000</td>\n",
       "      <td>7.000000</td>\n",
       "      <td>54.000000</td>\n",
       "      <td>15.900000</td>\n",
       "      <td>3.500000</td>\n",
       "      <td>10.000000</td>\n",
       "      <td>1.200000</td>\n",
       "      <td>0.472441</td>\n",
       "      <td>15.000000</td>\n",
       "      <td>16.000000</td>\n",
       "    </tr>\n",
       "    <tr>\n",
       "      <th>max</th>\n",
       "      <td>9.100000e+21</td>\n",
       "      <td>21.000000</td>\n",
       "      <td>6.000000</td>\n",
       "      <td>4134.000000</td>\n",
       "      <td>101.000000</td>\n",
       "      <td>100.000000</td>\n",
       "      <td>106.000000</td>\n",
       "      <td>104.000000</td>\n",
       "      <td>86.200000</td>\n",
       "      <td>86.000000</td>\n",
       "      <td>254.000000</td>\n",
       "      <td>100.000000</td>\n",
       "      <td>35.000000</td>\n",
       "      <td>33.000000</td>\n",
       "    </tr>\n",
       "  </tbody>\n",
       "</table>\n",
       "</div>"
      ],
      "text/plain": [
       "               code   additives_n  ingredients_that_may_be_from_palm_oil_n  \\\n",
       "count  3.114900e+04  29237.000000                             29237.000000   \n",
       "mean   2.921483e+17      2.020864                                 0.156104   \n",
       "std    5.156076e+19      2.608891                                 0.468079   \n",
       "min    1.040000e+02      0.000000                                 0.000000   \n",
       "25%    3.210179e+12      0.000000                                 0.000000   \n",
       "50%    3.329490e+12      1.000000                                 0.000000   \n",
       "75%    4.025500e+12      3.000000                                 0.000000   \n",
       "max    9.100000e+21     21.000000                                 6.000000   \n",
       "\n",
       "        energy_100g      fat_100g  saturated_fat_100g  carbohydrates_100g  \\\n",
       "count  31149.000000  31142.000000        31149.000000        31137.000000   \n",
       "mean    1086.702674     12.944264            5.159998           27.988388   \n",
       "std      782.843014     16.800550            7.905305           27.365341   \n",
       "min        0.000000      0.000000            0.000000            0.000000   \n",
       "25%      381.000000      1.100000            0.208000            4.500000   \n",
       "50%      990.000000      6.000000            1.800000           14.600000   \n",
       "75%     1651.000000     21.000000            7.000000           54.000000   \n",
       "max     4134.000000    101.000000          100.000000          106.000000   \n",
       "\n",
       "        sugars_100g    fiber_100g  proteins_100g     salt_100g   sodium_100g  \\\n",
       "count  31149.000000  21352.000000   31149.000000  31149.000000  31149.000000   \n",
       "mean      12.698267      2.776973       7.364695      0.986919      0.388554   \n",
       "std       18.007295      3.918956       7.287275      3.656017      1.439429   \n",
       "min       -0.500000      0.000000       0.000000      0.000000      0.000000   \n",
       "25%        1.100000      0.500000       1.900000      0.080000      0.031496   \n",
       "50%        4.000000      1.800000       5.800000      0.510000      0.200787   \n",
       "75%       15.900000      3.500000      10.000000      1.200000      0.472441   \n",
       "max      104.000000     86.200000      86.000000    254.000000    100.000000   \n",
       "\n",
       "       nutrition_score_fr_100g  nutrition_score_uk_100g  \n",
       "count             31149.000000             31149.000000  \n",
       "mean                  7.981637                 7.719092  \n",
       "std                   9.110447                 9.507575  \n",
       "min                 -14.000000               -14.000000  \n",
       "25%                   1.000000                 0.000000  \n",
       "50%                   7.000000                 5.000000  \n",
       "75%                  15.000000                16.000000  \n",
       "max                  35.000000                33.000000  "
      ]
     },
     "execution_count": 13,
     "metadata": {},
     "output_type": "execute_result"
    }
   ],
   "source": [
    "df.describe()"
   ]
  },
  {
   "cell_type": "code",
   "execution_count": 18,
   "metadata": {
    "collapsed": false
   },
   "outputs": [
    {
     "data": {
      "text/plain": [
       "array([nan, u'Albania,Denmark,Italy', u'Albania,Italy',\n",
       "       u'Algeria,Belgium,Canada,France,Morocco,Switzerland',\n",
       "       u'Algeria,Egypt,Morocco,Qatar,Tunisia,United Arab Emirates',\n",
       "       u'Algeria,France', u'Andorra,France', u'Argentina', u'Aruba',\n",
       "       u'Australia', u'Australia,Belgium,France',\n",
       "       u'Australia,Czech Republic,France', u'Australia,France',\n",
       "       u'Australia,Germany,Netherlands',\n",
       "       u'Australia,Indonesia,United States', u'Australia,New Zealand',\n",
       "       u'Australia,New Zealand,Singapore,Thailand',\n",
       "       u'Australia,Thailand,United Kingdom',\n",
       "       u'Australia,United Kingdom,United States',\n",
       "       u'Australia,United States', u'Austria',\n",
       "       u'Austria,France,Germany,Italy,Switzerland', u'Austria,Germany',\n",
       "       u'Austria,Germany,Spain', u'Belgium', u'Belgium,Denmark',\n",
       "       u'Belgium,Denmark,France,Germany', u'Belgium,France',\n",
       "       u'Belgium,France,Germany',\n",
       "       u'Belgium,France,Germany,Ireland,Netherlands,Portugal,Spain,United Kingdom',\n",
       "       u'Belgium,France,Germany,Italy,Netherlands',\n",
       "       u'Belgium,France,Germany,Netherlands', u'Belgium,France,Luxembourg',\n",
       "       u'Belgium,France,Luxembourg,Switzerland',\n",
       "       u'Belgium,France,Netherlands',\n",
       "       u'Belgium,France,Netherlands,Switzerland', u'Belgium,France,Spain',\n",
       "       u'Belgium,France,Spain,Switzerland,United Kingdom',\n",
       "       u'Belgium,France,Switzerland', u'Belgium,France,United Kingdom',\n",
       "       u'Belgium,Italy', u'Belgium,Netherlands', u'Belgium,Portugal',\n",
       "       u'Belgium,Switzerland', u'Belgium,United States', u'Brazil',\n",
       "       u'Bulgaria', u'Bulgaria,France', u'Cambodia', u'Cambodia,Thailand',\n",
       "       u'Canada', u'Canada,United States', u'Canada,fr:Quebec', u'Chile',\n",
       "       u'China,Hong Kong', u'Colombia', u'Cuba', u'Czech Republic',\n",
       "       u'Czech Republic,Denmark,France,Germany', u'Czech Republic,France',\n",
       "       u'Czech Republic,France,Iraq', u'Czech Republic,Slovakia',\n",
       "       u'Czech Republic,United Kingdom', u'Denmark',\n",
       "       u'Denmark,Finland,France,Germany,Hungary,Italy,Netherlands,Norway,Portugal,Russia,Slovenia,Spain,Sweden,United Kingdom',\n",
       "       u'Denmark,France', u'Denmark,France,Germany',\n",
       "       u'Denmark,France,Germany,United Kingdom',\n",
       "       u'Denmark,France,Italy,United Kingdom', u'Denmark,France,Portugal',\n",
       "       u'Denmark,France,Portugal,Switzerland', u'Denmark,France,Spain',\n",
       "       u'Denmark,France,Spain,United Kingdom',\n",
       "       u'Denmark,France,Switzerland',\n",
       "       u'Denmark,France,Switzerland,United Kingdom',\n",
       "       u'Denmark,France,United Kingdom', u'Denmark,Germany',\n",
       "       u'Denmark,Guadeloupe', u'Denmark,Italy', u'Denmark,Portugal',\n",
       "       u'Denmark,R\\xe9union', u'Denmark,Spain',\n",
       "       u'Denmark,Switzerland,United Kingdom', u'Denmark,United Kingdom',\n",
       "       u'Egypt,United Kingdom,United States', u'European Union',\n",
       "       u'Finland', u'France', u'France,French Guiana',\n",
       "       u'France,French Polynesia,New Caledonia', u'France,Germany',\n",
       "       u'France,Germany,Netherlands,United Kingdom',\n",
       "       u'France,Germany,Portugal',\n",
       "       u'France,Germany,Romania,Scotland,United Kingdom',\n",
       "       u'France,Germany,Spain', u'France,Germany,United Kingdom',\n",
       "       u'France,Greece,Netherlands', u'France,Guadeloupe',\n",
       "       u'France,Hungary,United Kingdom', u'France,India', u'France,Italy',\n",
       "       u'France,Italy,Serbia,Spain', u'France,Italy,Spain',\n",
       "       u'France,Italy,United Kingdom', u'France,Japan', u'France,Kuwait',\n",
       "       u'France,Luxembourg', u'France,Martinique', u'France,Monaco',\n",
       "       u'France,Morocco', u'France,Netherlands',\n",
       "       u'France,Netherlands,Switzerland', u'France,New Caledonia',\n",
       "       u'France,Norway', u'France,Poland', u'France,Portugal',\n",
       "       u'France,Portugal,Spain', u'France,Portugal,Spain,United Kingdom',\n",
       "       u'France,Romania', u'France,R\\xe9union',\n",
       "       u'France,Saint Pierre and Miquelon', u'France,Saudi Arabia',\n",
       "       u'France,Serbia', u'France,Spain', u'France,Spain,United Kingdom',\n",
       "       u'France,Sweden', u'France,Switzerland',\n",
       "       u'France,Switzerland,United States', u'France,Taiwan',\n",
       "       u'France,United Arab Emirates', u'France,United Kingdom',\n",
       "       u'France,United Kingdom,United States', u'France,United States',\n",
       "       u'France,fr:Europe', u'French Guiana',\n",
       "       u'French Guiana,Guadeloupe,Martinique', u'French Polynesia',\n",
       "       u'Germany', u'Germany,Italy', u'Germany,Netherlands',\n",
       "       u'Germany,Poland', u'Germany,Spain', u'Germany,Switzerland',\n",
       "       u'Germany,Turkey', u'Germany,United Kingdom', u'Greece',\n",
       "       u'Guadeloupe', u'Guadeloupe,Martinique',\n",
       "       u'Guadeloupe,Slovenia,United Kingdom', u'Hong Kong', u'Hungary',\n",
       "       u'India', u'Ireland', u'Irlande', u'Israel', u'Italy',\n",
       "       u'Italy,Romania', u'Italy,Spain', u'Japan', u'Lebanon',\n",
       "       u'Lithuania', u'Lithuania,Sweden', u'Lithuania,United Kingdom',\n",
       "       u'Luxembourg', u'Malta', u'Martinique', u'Mexico',\n",
       "       u'Moldova,United States', u'Morocco', u'Nederland', u'Netherlands',\n",
       "       u'New Caledonia', u'New Zealand', u'Norway', u'Other-japon',\n",
       "       u'Other-turquie', u'Philippines', u'Poland',\n",
       "       u'Poland,United Kingdom', u'Polska', u'Portugal', u'Portugal,Spain',\n",
       "       u'Portugal,Spain,United Kingdom', u'Romania', u'Russia',\n",
       "       u'R\\xe9union', u'Saint Pierre and Miquelon',\n",
       "       u'Scotland,United Kingdom', u'Senegal', u'Singapore',\n",
       "       u'Singapore,Thailanda', u'Slovenia', u'South Africa',\n",
       "       u'South Korea', u'Spain', u'Spain,es:Europe', u'Sweden',\n",
       "       u'Switzerland', u'Taiwan', u'Thailand', u'Tunisia', u'Turkey',\n",
       "       u'Ukraine', u'United Arab Emirates', u'United Kingdom',\n",
       "       u'United Kingdom,United States', u'United Kingdom,fr:Angleterre',\n",
       "       u'United States', u'fr:Quebec'], dtype=object)"
      ]
     },
     "execution_count": 18,
     "metadata": {},
     "output_type": "execute_result"
    }
   ],
   "source": [
    "np.unique(df['countries_en'])"
   ]
  },
  {
   "cell_type": "code",
   "execution_count": 33,
   "metadata": {
    "collapsed": true
   },
   "outputs": [],
   "source": [
    "def contains_country(data, country='France'):\n",
    "    data = [word.strip() for word in data.split(',')]\n",
    "    return (country in data)"
   ]
  },
  {
   "cell_type": "code",
   "execution_count": 34,
   "metadata": {
    "collapsed": false
   },
   "outputs": [
    {
     "data": {
      "text/plain": [
       "0    False\n",
       "1    False\n",
       "2     True\n",
       "3     True\n",
       "4    False\n",
       "Name: is_french, dtype: object"
      ]
     },
     "execution_count": 34,
     "metadata": {},
     "output_type": "execute_result"
    }
   ],
   "source": [
    "df['is_french'] = df['countries_en'].dropna().apply(contains_country)\n",
    "df['is_french'].head()"
   ]
  },
  {
   "cell_type": "code",
   "execution_count": 35,
   "metadata": {
    "collapsed": false
   },
   "outputs": [
    {
     "data": {
      "text/plain": [
       "<matplotlib.axes._subplots.AxesSubplot at 0x7fa9223fb590>"
      ]
     },
     "execution_count": 35,
     "metadata": {},
     "output_type": "execute_result"
    },
    {
     "data": {
      "image/png": "[encoded data removed]",
      "text/plain": [
       "<matplotlib.figure.Figure at 0x7fa922402f50>"
      ]
     },
     "metadata": {},
     "output_type": "display_data"
    }
   ],
   "source": [
    "sns.countplot(x='is_french', data=df)"
   ]
  },
  {
   "cell_type": "markdown",
   "metadata": {},
   "source": [
    "----"
   ]
  },
  {
   "cell_type": "code",
   "execution_count": 136,
   "metadata": {
    "collapsed": false
   },
   "outputs": [],
   "source": [
    "df.to_csv('data/ffclean6_isfrench.csv', encoding='utf-8')"
   ]
  },
  {
   "cell_type": "code",
   "execution_count": 147,
   "metadata": {
    "collapsed": false
   },
   "outputs": [
    {
     "data": {
      "image/png": "[encoded data removed]",
      "text/plain": [
       "<matplotlib.figure.Figure at 0x7fa921767410>"
      ]
     },
     "metadata": {},
     "output_type": "display_data"
    }
   ],
   "source": [
    "ax = sns.distplot(df['nutrition_score_fr_100g'])\n",
    "ax.set(xlabel='French Nutrition Score (100g)')\n",
    "pyplot.show()"
   ]
  },
  {
   "cell_type": "code",
   "execution_count": 148,
   "metadata": {
    "collapsed": false
   },
   "outputs": [
    {
     "data": {
      "image/png": "[encoded data removed]",
      "text/plain": [
       "<matplotlib.figure.Figure at 0x7fa920367210>"
      ]
     },
     "metadata": {},
     "output_type": "display_data"
    }
   ],
   "source": [
    "ax = sns.distplot(df['nutrition_score_fr_100g'][df['is_french'] == 1])\n",
    "ax.set(xlabel='French Products -- French Nutrition Score (100g)')\n",
    "pyplot.show()"
   ]
  },
  {
   "cell_type": "code",
   "execution_count": 151,
   "metadata": {
    "collapsed": false
   },
   "outputs": [
    {
     "data": {
      "image/png": "[encoded data removed]",
      "text/plain": [
       "<matplotlib.figure.Figure at 0x7fa9200fdd50>"
      ]
     },
     "metadata": {},
     "output_type": "display_data"
    }
   ],
   "source": [
    "ax = sns.distplot(df['nutrition_score_fr_100g'][df['is_french'] == 0])\n",
    "ax.set(xlabel='Non-French Products -- French Nutrition Score (100g)')\n",
    "pyplot.show()"
   ]
  },
  {
   "cell_type": "markdown",
   "metadata": {},
   "source": [
    "### Is there a difference in the Distributions"
   ]
  },
  {
   "cell_type": "code",
   "execution_count": 85,
   "metadata": {
    "collapsed": false
   },
   "outputs": [
    {
     "data": {
      "text/plain": [
       "array([[13, 13, 13, ...,  4, -4,  2]])"
      ]
     },
     "execution_count": 85,
     "metadata": {},
     "output_type": "execute_result"
    }
   ],
   "source": [
    "non_french = df['nutrition_score_fr_100g'][df['is_french'] == 0].values.reshape(-1, 1)\n",
    "french = df['nutrition_score_fr_100g'][df['is_french'] == 1].values.reshape(1, -1)\n",
    "french"
   ]
  },
  {
   "cell_type": "code",
   "execution_count": 112,
   "metadata": {
    "collapsed": true
   },
   "outputs": [],
   "source": [
    "from collections import Counter"
   ]
  },
  {
   "cell_type": "code",
   "execution_count": 127,
   "metadata": {
    "collapsed": false,
    "scrolled": true
   },
   "outputs": [
    {
     "data": {
      "text/plain": [
       "[(-13, 6),\n",
       " (-12, 22),\n",
       " (-11, 38),\n",
       " (-10, 49),\n",
       " (-9, 97),\n",
       " (-8, 102),\n",
       " (-7, 167),\n",
       " (-6, 567),\n",
       " (-5, 670),\n",
       " (-4, 596),\n",
       " (-3, 534),\n",
       " (-2, 705),\n",
       " (-1, 903),\n",
       " (0, 1258),\n",
       " (1, 1191),\n",
       " (2, 1263),\n",
       " (3, 1130),\n",
       " (4, 1002),\n",
       " (5, 721),\n",
       " (6, 444),\n",
       " (7, 408),\n",
       " (8, 507),\n",
       " (9, 556),\n",
       " (10, 636),\n",
       " (11, 1018),\n",
       " (12, 860),\n",
       " (13, 922),\n",
       " (14, 1016),\n",
       " (15, 832),\n",
       " (16, 618),\n",
       " (17, 671),\n",
       " (18, 559),\n",
       " (19, 537),\n",
       " (20, 605),\n",
       " (21, 476),\n",
       " (22, 348),\n",
       " (23, 348),\n",
       " (24, 347),\n",
       " (25, 360),\n",
       " (26, 322),\n",
       " (27, 158),\n",
       " (28, 63),\n",
       " (29, 17),\n",
       " (30, 11),\n",
       " (31, 6),\n",
       " (32, 7)]"
      ]
     },
     "execution_count": 127,
     "metadata": {},
     "output_type": "execute_result"
    }
   ],
   "source": [
    "french_dist = sorted(Counter(np.ravel(french)).most_common(), key=lambda key_value: key_value[0])\n",
    "french_dist = filter(lambda d: d[1] > 5, french_dist)\n",
    "french_dist"
   ]
  },
  {
   "cell_type": "code",
   "execution_count": 130,
   "metadata": {
    "collapsed": false,
    "scrolled": true
   },
   "outputs": [
    {
     "data": {
      "text/plain": [
       "[(-13, 7),\n",
       " (-12, 14),\n",
       " (-11, 26),\n",
       " (-10, 28),\n",
       " (-9, 47),\n",
       " (-8, 50),\n",
       " (-7, 64),\n",
       " (-6, 192),\n",
       " (-5, 212),\n",
       " (-4, 160),\n",
       " (-3, 179),\n",
       " (-2, 218),\n",
       " (-1, 341),\n",
       " (0, 420),\n",
       " (1, 460),\n",
       " (2, 407),\n",
       " (3, 275),\n",
       " (4, 228),\n",
       " (5, 164),\n",
       " (6, 149),\n",
       " (7, 147),\n",
       " (8, 150),\n",
       " (9, 191),\n",
       " (10, 253),\n",
       " (11, 324),\n",
       " (12, 250),\n",
       " (13, 286),\n",
       " (14, 307),\n",
       " (15, 259),\n",
       " (16, 234),\n",
       " (17, 179),\n",
       " (18, 173),\n",
       " (19, 135),\n",
       " (20, 134),\n",
       " (21, 122),\n",
       " (22, 100),\n",
       " (23, 126),\n",
       " (24, 126),\n",
       " (25, 88),\n",
       " (26, 112),\n",
       " (27, 66),\n",
       " (28, 33),\n",
       " (29, 6)]"
      ]
     },
     "execution_count": 130,
     "metadata": {},
     "output_type": "execute_result"
    }
   ],
   "source": [
    "non_french_dist = sorted(Counter(np.ravel(non_french)).most_common(), key=lambda key_value: key_value[0])\n",
    "non_french_dist = filter(lambda d: d[1] > 5, non_french_dist)\n",
    "non_french_dist"
   ]
  },
  {
   "cell_type": "code",
   "execution_count": 132,
   "metadata": {
    "collapsed": false
   },
   "outputs": [],
   "source": [
    "y1 = [v for k, v in non_french_dist]\n",
    "y2 = [v for k, v in french_dist]"
   ]
  },
  {
   "cell_type": "code",
   "execution_count": 139,
   "metadata": {
    "collapsed": false,
    "scrolled": true
   },
   "outputs": [
    {
     "data": {
      "text/plain": [
       "([7,\n",
       "  14,\n",
       "  26,\n",
       "  28,\n",
       "  47,\n",
       "  50,\n",
       "  64,\n",
       "  192,\n",
       "  212,\n",
       "  160,\n",
       "  179,\n",
       "  218,\n",
       "  341,\n",
       "  420,\n",
       "  460,\n",
       "  407,\n",
       "  275,\n",
       "  228,\n",
       "  164,\n",
       "  149,\n",
       "  147,\n",
       "  150,\n",
       "  191,\n",
       "  253,\n",
       "  324,\n",
       "  250,\n",
       "  286,\n",
       "  307,\n",
       "  259,\n",
       "  234,\n",
       "  179,\n",
       "  173,\n",
       "  135,\n",
       "  134,\n",
       "  122,\n",
       "  100,\n",
       "  126,\n",
       "  126,\n",
       "  88,\n",
       "  112,\n",
       "  66,\n",
       "  33,\n",
       "  6],\n",
       " [6,\n",
       "  22,\n",
       "  38,\n",
       "  49,\n",
       "  97,\n",
       "  102,\n",
       "  167,\n",
       "  567,\n",
       "  670,\n",
       "  596,\n",
       "  534,\n",
       "  705,\n",
       "  903,\n",
       "  1258,\n",
       "  1191,\n",
       "  1263,\n",
       "  1130,\n",
       "  1002,\n",
       "  721,\n",
       "  444,\n",
       "  408,\n",
       "  507,\n",
       "  556,\n",
       "  636,\n",
       "  1018,\n",
       "  860,\n",
       "  922,\n",
       "  1016,\n",
       "  832,\n",
       "  618,\n",
       "  671,\n",
       "  559,\n",
       "  537,\n",
       "  605,\n",
       "  476,\n",
       "  348,\n",
       "  348,\n",
       "  347,\n",
       "  360,\n",
       "  322,\n",
       "  158,\n",
       "  63,\n",
       "  17,\n",
       "  11,\n",
       "  6,\n",
       "  7])"
      ]
     },
     "execution_count": 139,
     "metadata": {},
     "output_type": "execute_result"
    }
   ],
   "source": []
  },
  {
   "cell_type": "code",
   "execution_count": 156,
   "metadata": {
    "collapsed": false
   },
   "outputs": [],
   "source": [
    "y2_normed = [d / 3 for d in y2]"
   ]
  },
  {
   "cell_type": "code",
   "execution_count": 157,
   "metadata": {
    "collapsed": false
   },
   "outputs": [
    {
     "data": {
      "text/plain": [
       "Power_divergenceResult(statistic=267.67459887915032, pvalue=1.2309892753521193e-34)"
      ]
     },
     "execution_count": 157,
     "metadata": {},
     "output_type": "execute_result"
    }
   ],
   "source": [
    "chisquare(f_obs=y1, f_exp=y2_normed[:-3], axis=None)"
   ]
  },
  {
   "cell_type": "code",
   "execution_count": 143,
   "metadata": {
    "collapsed": false
   },
   "outputs": [
    {
     "data": {
      "text/plain": [
       "Ttest_indResult(statistic=-5.8939882287356298, pvalue=2.5507791577881962e-07)"
      ]
     },
     "execution_count": 143,
     "metadata": {},
     "output_type": "execute_result"
    }
   ],
   "source": [
    "ttest_ind(y1, y2, equal_var=False)"
   ]
  },
  {
   "cell_type": "code",
   "execution_count": 158,
   "metadata": {
    "collapsed": false
   },
   "outputs": [
    {
     "data": {
      "text/plain": [
       "7.692865779927448"
      ]
     },
     "execution_count": 158,
     "metadata": {},
     "output_type": "execute_result"
    }
   ],
   "source": [
    "df['nutrition_score_fr_100g'][df['is_french'] == 0].mean()"
   ]
  },
  {
   "cell_type": "code",
   "execution_count": 159,
   "metadata": {
    "collapsed": false
   },
   "outputs": [
    {
     "data": {
      "text/plain": [
       "8.069256756756756"
      ]
     },
     "execution_count": 159,
     "metadata": {},
     "output_type": "execute_result"
    }
   ],
   "source": [
    "df['nutrition_score_fr_100g'][df['is_french'] == 1].mean()"
   ]
  },
  {
   "cell_type": "markdown",
   "metadata": {},
   "source": [
    "* There is a bias twoards French products being rated higher"
   ]
  },
  {
   "cell_type": "code",
   "execution_count": null,
   "metadata": {
    "collapsed": true
   },
   "outputs": [],
   "source": []
  }
 ],
 "metadata": {
  "kernelspec": {
   "display_name": "Python 2",
   "language": "python",
   "name": "python2"
  },
  "language_info": {
   "codemirror_mode": {
    "name": "ipython",
    "version": 2
   },
   "file_extension": ".py",
   "mimetype": "text/x-python",
   "name": "python",
   "nbconvert_exporter": "python",
   "pygments_lexer": "ipython2",
   "version": "2.7.12"
  }
 },
 "nbformat": 4,
 "nbformat_minor": 0
}
